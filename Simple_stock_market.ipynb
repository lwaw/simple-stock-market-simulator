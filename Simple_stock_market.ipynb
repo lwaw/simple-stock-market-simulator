{
 "cells": [
  {
   "cell_type": "code",
   "execution_count": 1,
   "id": "08fdd0db",
   "metadata": {},
   "outputs": [
    {
     "name": "stdout",
     "output_type": "stream",
     "text": [
      "Once deleted, variables cannot be recovered. Proceed (y/[n])? y\n"
     ]
    }
   ],
   "source": [
    "%reset"
   ]
  },
  {
   "cell_type": "code",
   "execution_count": 2,
   "id": "03f63d28",
   "metadata": {},
   "outputs": [],
   "source": [
    "import pandas as pd\n",
    "import seaborn as sns\n",
    "import math \n",
    "import random"
   ]
  },
  {
   "cell_type": "code",
   "execution_count": 176,
   "id": "13fd50a5",
   "metadata": {},
   "outputs": [],
   "source": [
    "min_price = 10\n",
    "max_price = 15\n",
    "current_price = 15\n",
    "\n",
    "simulation_time = 500 #days\n",
    "\n",
    "volatility = 0.1 #determines width of min max range\n",
    "value_scaler = 1 #determines cheapness of stock\n",
    "\n",
    "global_market = True\n",
    "global_market_strength = 100\n",
    "global_sentiment = random.choice([\"bullish\", \"bearish\"])\n",
    "average_change_global_sentiment = 1 / (100 * 24) #1 / (days * 24 * number_of_stocks) changes every * days\n",
    "\n",
    "last_change = random.choice([\"positive\", \"negative\"])\n",
    "#random.seed(1234)"
   ]
  },
  {
   "cell_type": "code",
   "execution_count": 4,
   "id": "dacf7dc0",
   "metadata": {},
   "outputs": [],
   "source": [
    "def define_function(current_price, max_price, min_price):\n",
    "    use_current_price = current_price\n",
    "    function_type = random.choice([\"sin\", \"cos\"])\n",
    "\n",
    "    number_of_periods = int(round((1 + random.random())))\n",
    "    period_length = 24 / number_of_periods\n",
    "    periodicity = (2 * math.pi) / period_length\n",
    "\n",
    "    amplitude = ((max_price - min_price) / 100) * random.random()\n",
    "    \n",
    "    if function_type == \"sin\":\n",
    "        vertical_translation = use_current_price\n",
    "    elif function_type == \"cos\":\n",
    "        vertical_translation = use_current_price\n",
    "\n",
    "    function = {\n",
    "        \"periodicity\": periodicity,\n",
    "        \"amplitude\": amplitude,\n",
    "        \"vertical_translation\": vertical_translation,\n",
    "        \"function_type\": function_type\n",
    "    }\n",
    "\n",
    "    return function"
   ]
  },
  {
   "cell_type": "code",
   "execution_count": 5,
   "id": "6403acfc",
   "metadata": {},
   "outputs": [],
   "source": [
    "def get_price_target(function, time_step, max_price, min_price):\n",
    "    global global_market\n",
    "    global global_sentiment\n",
    "    global global_market_strength\n",
    "    global average_change_global_sentiment\n",
    "    \n",
    "    if function.get('function_type') == \"sin\":\n",
    "        price_target = function.get('amplitude') * math.sin(function.get('periodicity') * time_step) + function.get('vertical_translation')\n",
    "    elif function.get('function_type') == \"cos\":\n",
    "        price_target = function.get('amplitude') * math.cos(function.get('periodicity') * time_step) + function.get('vertical_translation')\n",
    "    \n",
    "    rand_pos_change = random.random()\n",
    "    rand_pos_change_pos_neg = random.random()\n",
    "    if rand_pos_change < 1:\n",
    "        if rand_pos_change_pos_neg < 0.5:\n",
    "            price_target = price_target - ((max_price - min_price) * (random.uniform(0.1, 1.0) / 10) )\n",
    "        elif rand_pos_change_pos_neg > 0.5:\n",
    "            price_target = price_target + ((max_price - min_price) * (random.uniform(0.1, 1.0) / 10) )\n",
    "    \n",
    "    if price_target < min_price:\n",
    "        price_target = min_price\n",
    "    elif price_target > max_price:\n",
    "        price_target = max_price\n",
    "        \n",
    "    if global_market == True:\n",
    "        rand_global_sentiment_value = random.random()\n",
    "        if rand_global_sentiment_value < average_change_global_sentiment:\n",
    "            global_sentiment = random.choice([\"bullish\", \"bearish\"])\n",
    "                \n",
    "        if global_sentiment == \"bullish\":\n",
    "            rand_global_market_value = random.random() / (global_market_strength / price_target)\n",
    "            price_target = price_target + rand_global_market_value\n",
    "        elif global_sentiment == \"bearish\":\n",
    "            rand_global_market_value = -1 * random.random() / (global_market_strength / price_target)\n",
    "            if price_target + rand_global_market_value > 0:\n",
    "                price_target = price_target + rand_global_market_value\n",
    "        \n",
    "    return price_target"
   ]
  },
  {
   "cell_type": "code",
   "execution_count": 92,
   "id": "be74aeec",
   "metadata": {},
   "outputs": [],
   "source": [
    "def update_current_price(current_price, max_price, min_price, price_target):  \n",
    "    global last_change\n",
    "\n",
    "    new_price = current_price + (price_target - current_price) * random.random() / 100\n",
    "    rand_pos_change = random.random()\n",
    "    rand_pos_value = ((max_price - min_price) * (random.uniform(0.1, 1.0) / 10) ) / 100\n",
    "\n",
    "    if rand_pos_change < 0.1:\n",
    "        if last_change == \"negative\":\n",
    "            last_change = \"positive\"\n",
    "        else:\n",
    "            last_change = \"negative\"\n",
    "            \n",
    "    if last_change == \"negative\":\n",
    "        if new_price - rand_pos_value < 0.001:\n",
    "            rand_pos_change_2 = random.random() / 100\n",
    "            while new_price - ( rand_pos_change - rand_pos_change_2 ) < 0.001:\n",
    "                rand_pos_change_2 = random.random()\n",
    "            new_price = new_price - ( rand_pos_change - rand_pos_change_2 )\n",
    "        else:\n",
    "            new_price = new_price - rand_pos_value\n",
    "    elif last_change == \"positive\":\n",
    "        new_price = new_price + rand_pos_value\n",
    "\n",
    "    return new_price"
   ]
  },
  {
   "cell_type": "code",
   "execution_count": 7,
   "id": "c7ccc871",
   "metadata": {},
   "outputs": [],
   "source": [
    "def update_min_max(max_price, min_price, volatility):    \n",
    "    prefered_diff = -3.300066 + 3.44987 * math.pow(math.e, 3.660217 * volatility)\n",
    "    diff = max_price - min_price\n",
    "    rand_change_max_value = random.random()\n",
    "    rand_change_min_value = random.random()\n",
    "    \n",
    "    if rand_change_max_value < 0.1:\n",
    "        if diff > prefered_diff:\n",
    "            new_max_price = max_price - random.random()\n",
    "        else:\n",
    "            new_max_price = max_price + random.random()\n",
    "    else:\n",
    "        new_min_price = min_price\n",
    "        new_max_price = max_price\n",
    "        \n",
    "    if rand_change_min_value < 0.1:\n",
    "        if diff > prefered_diff:\n",
    "            new_min_price = min_price + random.random()\n",
    "        else:\n",
    "            new_min_price = min_price - random.random()\n",
    "    else:\n",
    "        new_min_price = min_price\n",
    "        new_max_price = max_price\n",
    "        \n",
    "    if new_min_price > new_max_price:\n",
    "        new_min_price = min_price\n",
    "        new_max_price = max_price\n",
    "                \n",
    "    if new_min_price <= 0:\n",
    "        new_min_price = min_price\n",
    "    if new_max_price <= 0:\n",
    "        new_min_price = max_price\n",
    "            \n",
    "    return [new_max_price, new_min_price]\n"
   ]
  },
  {
   "cell_type": "code",
   "execution_count": 8,
   "id": "f41e0393",
   "metadata": {},
   "outputs": [],
   "source": [
    "def scale_value(value, value_scaler):\n",
    "    new_value = value / value_scaler\n",
    "    return new_value"
   ]
  },
  {
   "cell_type": "code",
   "execution_count": 181,
   "id": "ce93885f",
   "metadata": {
    "scrolled": true
   },
   "outputs": [
    {
     "name": "stdout",
     "output_type": "stream",
     "text": [
      "31.19580721586532\n",
      "32.6217269933674\n"
     ]
    },
    {
     "data": {
      "text/plain": [
       "<AxesSubplot:>"
      ]
     },
     "execution_count": 181,
     "metadata": {},
     "output_type": "execute_result"
    },
    {
     "data": {
      "image/png": "[encoded data removed]",
      "text/plain": [
       "<Figure size 432x288 with 1 Axes>"
      ]
     },
     "metadata": {
      "needs_background": "light"
     },
     "output_type": "display_data"
    }
   ],
   "source": [
    "lista = []\n",
    "listb = []\n",
    "\n",
    "listc = []\n",
    "listd = []\n",
    "time = 0\n",
    "\n",
    "for q in range(simulation_time):\n",
    "    function = define_function(current_price, max_price, min_price)\n",
    "    \n",
    "    for i in range(24):\n",
    "        price_target = get_price_target(function, i, max_price, min_price,)\n",
    "        lista.append(scale_value(price_target, value_scaler))\n",
    "        listb.append(time)\n",
    "\n",
    "        for j in range(60):\n",
    "            current_price = (update_current_price(current_price, max_price, min_price, price_target))\n",
    "            listc.append(scale_value(current_price, value_scaler))\n",
    "            listd.append(time)\n",
    "            time = time + 1\n",
    "            \n",
    "        new_min_max_prize = update_min_max(max_price, min_price, volatility)\n",
    "        max_price = new_min_max_prize[0]\n",
    "        min_price = new_min_max_prize[1]\n",
    "        \n",
    "print(min_price)\n",
    "print(max_price)\n",
    "#sns.scatterplot(x=listb, y=lista)\n",
    "sns.scatterplot(x=listd, y=listc)"
   ]
  }
 ],
 "metadata": {
  "kernelspec": {
   "display_name": "Python 3",
   "language": "python",
   "name": "python3"
  },
  "language_info": {
   "codemirror_mode": {
    "name": "ipython",
    "version": 3
   },
   "file_extension": ".py",
   "mimetype": "text/x-python",
   "name": "python",
   "nbconvert_exporter": "python",
   "pygments_lexer": "ipython3",
   "version": "3.8.8"
  }
 },
 "nbformat": 4,
 "nbformat_minor": 5
}
